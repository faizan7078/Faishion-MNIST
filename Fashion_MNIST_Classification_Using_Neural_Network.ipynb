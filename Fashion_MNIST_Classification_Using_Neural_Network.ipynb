{
  "nbformat": 4,
  "nbformat_minor": 0,
  "metadata": {
    "colab": {
      "name": " Fashion MNIST Classification Using Neural Network",
      "private_outputs": true,
      "provenance": [],
      "authorship_tag": "ABX9TyPVST+/4/+NhoxYuYKR1ZcX",
      "include_colab_link": true
    },
    "kernelspec": {
      "name": "python3",
      "display_name": "Python 3"
    },
    "language_info": {
      "name": "python"
    }
  },
  "cells": [
    {
      "cell_type": "markdown",
      "metadata": {
        "id": "view-in-github",
        "colab_type": "text"
      },
      "source": [
        "<a href=\"https://colab.research.google.com/github/faizan7078/Faishion-MNIST/blob/main/Fashion_MNIST_Classification_Using_Neural_Network.ipynb\" target=\"_parent\"><img src=\"https://colab.research.google.com/assets/colab-badge.svg\" alt=\"Open In Colab\"/></a>"
      ]
    },
    {
      "cell_type": "markdown",
      "metadata": {
        "id": "KO4e4ax2Tjf0"
      },
      "source": [
        "**we cover in this Project:**"
      ]
    },
    {
      "cell_type": "code",
      "metadata": {
        "id": "9_9EaAN-UBVm"
      },
      "source": [
        "'''Import Libraries\n",
        "Load Data\n",
        "Show Image from Numbers\n",
        "Feature Scaling\n",
        "Build First Neural Network\n",
        "Train Model\n",
        "Test & Evaluate Model\n",
        "Confusion Matrix\n",
        "Classification Report\n",
        "Save Mode'''"
      ],
      "execution_count": null,
      "outputs": []
    },
    {
      "cell_type": "code",
      "metadata": {
        "id": "T3Aev5WmUjKC"
      },
      "source": [
        " \n",
        "'''\n",
        "class_labels:\n",
        " \n",
        "0 => T-shirt/top \n",
        "1 => Trouser \n",
        "2 => Pullover \n",
        "3 => Dress \n",
        "4 => Coat \n",
        "5 => Sandal \n",
        "6 => Shirt \n",
        "7 => Sneaker \n",
        "8 => Bag \n",
        "9 => Ankle boot \n",
        " \n",
        "Classify the given input from above class using Neural Network\n",
        " \n",
        "image shape 28 X 28 pixel ( Gray scale)\n",
        " \n",
        "'''\n",
        " "
      ],
      "execution_count": null,
      "outputs": []
    },
    {
      "cell_type": "markdown",
      "metadata": {
        "id": "dnyvjQ8IVKV1"
      },
      "source": [
        "**import libraries**"
      ]
    },
    {
      "cell_type": "code",
      "metadata": {
        "id": "otcO-GvUVERn"
      },
      "source": [
        "import keras\n",
        "import numpy as np\n",
        "import pandas as pd\n",
        "import matplotlib.pyplot as plt\n",
        "import seaborn as sns"
      ],
      "execution_count": null,
      "outputs": []
    },
    {
      "cell_type": "markdown",
      "metadata": {
        "id": "OdEUES_PVfGt"
      },
      "source": [
        "**Load Data**"
      ]
    },
    {
      "cell_type": "code",
      "metadata": {
        "id": "g5UyDRHyXwD6"
      },
      "source": [
        "import tensorflow as tf\n",
        "\n",
        "mnist = tf.keras.datasets.mnist"
      ],
      "execution_count": null,
      "outputs": []
    },
    {
      "cell_type": "code",
      "metadata": {
        "id": "T9t6XNBHVh2o"
      },
      "source": [
        "(X_train, y_train), (X_test, y_test) = keras.datasets.fashion_mnist.load_data()\n",
        " \n",
        "X_train.shape, y_train.shape\n",
        " \n",
        "X_test.shape, y_test.shape\n",
        " \n",
        "X_train[0]\n",
        " \n",
        "y_train[0]"
      ],
      "execution_count": null,
      "outputs": []
    },
    {
      "cell_type": "code",
      "metadata": {
        "id": "kcWoiZTfVid5"
      },
      "source": [
        "class_labels = [\"T-shirt/top\",\"Trouser\",\"Pullover\",\"Dress\",\"Coat\",\"Sandal\",\"Shirt\",\"Sneaker\",\"Bag\",\"Ankle boot\"]\n",
        "'''\n",
        "0 => T-shirt/top \n",
        "1 => Trouser \n",
        "2 => Pullover \n",
        "3 => Dress \n",
        "4 => Coat \n",
        "5 => Sandal \n",
        "6 => Shirt \n",
        "7 => Sneaker \n",
        "8 => Bag \n",
        "9 => Ankle boot '''"
      ],
      "execution_count": null,
      "outputs": []
    },
    {
      "cell_type": "code",
      "metadata": {
        "id": "d0QbueJnViaG"
      },
      "source": [
        "plt.imshow(X_train[0], cmap =\"Greys\")\n",
        " \n",
        "plt.figure(figsize=(16,16))\n",
        "for i in range(25):\n",
        "  plt.subplot(5,5,i+1)\n",
        "  plt.imshow(X_train[i],cmap=\"Greys\")\n",
        "  plt.axis('off')\n",
        "  plt.title(class_labels[y_train[i]]+\"=\"+str(y_train[i]), fontsize=20)\n",
        " "
      ],
      "execution_count": null,
      "outputs": []
    },
    {
      "cell_type": "code",
      "metadata": {
        "id": "Pmn38U4SZkzv"
      },
      "source": [
        "  '''\n",
        "0 => T-shirt/top \n",
        "1 => Trouser \n",
        "2 => Pullover \n",
        "3 => Dress \n",
        "4 => Coat \n",
        "5 => Sandal \n",
        "6 => Shirt \n",
        "7 => Sneaker \n",
        "8 => Bag \n",
        "9 => Ankle boot '''"
      ],
      "execution_count": null,
      "outputs": []
    },
    {
      "cell_type": "markdown",
      "metadata": {
        "id": "1G0F05LFZu50"
      },
      "source": [
        "**Feature Scalling**"
      ]
    },
    {
      "cell_type": "code",
      "metadata": {
        "id": "qjHcH8DIViXM"
      },
      "source": [
        "X_train = X_train/255\n",
        "X_test = X_test/255\n",
        " \n",
        "X_train[0]"
      ],
      "execution_count": null,
      "outputs": []
    },
    {
      "cell_type": "markdown",
      "metadata": {
        "id": "K_2Ic8RJZ-4_"
      },
      "source": [
        "**Build Neural Network**"
      ]
    },
    {
      "cell_type": "code",
      "metadata": {
        "id": "gOOZYemKViTg"
      },
      "source": [
        " \n",
        "model = keras.models.Sequential([\n",
        "                         keras.layers.Flatten(input_shape=[28,28]),\n",
        "                         keras.layers.Dense(units=32, activation='relu'),\n",
        "                         keras.layers.Dense(units=10, activation='softmax')\n",
        "])"
      ],
      "execution_count": null,
      "outputs": []
    },
    {
      "cell_type": "code",
      "metadata": {
        "id": "HhsThFHOViQ7"
      },
      "source": [
        "model.summary()"
      ],
      "execution_count": null,
      "outputs": []
    },
    {
      "cell_type": "code",
      "metadata": {
        "id": "-2crhVdPViNF"
      },
      "source": [
        " model.compile(optimizer='adam', loss='sparse_categorical_crossentropy', metrics=['accuracy'])\n",
        " "
      ],
      "execution_count": null,
      "outputs": []
    },
    {
      "cell_type": "code",
      "metadata": {
        "id": "nugkL7mpViKk"
      },
      "source": [
        "model.fit(X_train, y_train, epochs=1)"
      ],
      "execution_count": null,
      "outputs": []
    },
    {
      "cell_type": "code",
      "metadata": {
        "id": "WsaYWsCgViHJ"
      },
      "source": [
        "model.fit(X_train, y_train, epochs=10)"
      ],
      "execution_count": null,
      "outputs": []
    },
    {
      "cell_type": "markdown",
      "metadata": {
        "id": "tB_RYwlKaxXg"
      },
      "source": [
        "**Test and Evaluate Neural Network Model**"
      ]
    },
    {
      "cell_type": "code",
      "metadata": {
        "id": "HtXitiEpViEQ"
      },
      "source": [
        "model.evaluate(X_test,y_test)"
      ],
      "execution_count": null,
      "outputs": []
    },
    {
      "cell_type": "code",
      "metadata": {
        "id": "0kbCl0cIVh_h"
      },
      "source": [
        "y_pred = model.predict(X_test)"
      ],
      "execution_count": null,
      "outputs": []
    },
    {
      "cell_type": "code",
      "metadata": {
        "id": "SUVVFt4EVh9o"
      },
      "source": [
        "y_pred[0].round(2)"
      ],
      "execution_count": null,
      "outputs": []
    },
    {
      "cell_type": "code",
      "metadata": {
        "id": "tmlcrPaUbLOL"
      },
      "source": [
        "np.argmax(y_pred[0].round(2))"
      ],
      "execution_count": null,
      "outputs": []
    },
    {
      "cell_type": "code",
      "metadata": {
        "id": "D3lOm3LrbLMJ"
      },
      "source": [
        "\n",
        "'''\n",
        "0 => T-shirt/top \n",
        "1 => Trouser \n",
        "2 => Pullover \n",
        "3 => Dress \n",
        "4 => Coat \n",
        "5 => Sandal \n",
        "6 => Shirt \n",
        "7 => Sneaker \n",
        "8 => Bag \n",
        "9 => Ankle boot '''\n"
      ],
      "execution_count": null,
      "outputs": []
    },
    {
      "cell_type": "code",
      "metadata": {
        "id": "KkSkc9LvbLH6"
      },
      "source": [
        "y_test[0]"
      ],
      "execution_count": null,
      "outputs": []
    },
    {
      "cell_type": "code",
      "metadata": {
        "id": "sct4J2aRbLFH"
      },
      "source": [
        "plt.figure(figsize=(16,16))\n",
        "for i in range(25):\n",
        "  plt.subplot(5,5,i+1)\n",
        "  plt.imshow(X_test[i],cmap=\"Greys\")\n",
        "  plt.axis('off')\n",
        "  plt.title(\"Actual= {} \\n Predicted = {}\".format(class_labels[y_test[i]], class_labels[np.argmax(y_pred[i])]))\n",
        " "
      ],
      "execution_count": null,
      "outputs": []
    },
    {
      "cell_type": "markdown",
      "metadata": {
        "id": "A_Q4Rneib941"
      },
      "source": [
        "**Confusion Matrix**"
      ]
    },
    {
      "cell_type": "code",
      "metadata": {
        "id": "QfmBzHyXbK_y"
      },
      "source": [
        "\n",
        "from sklearn.metrics import confusion_matrix\n",
        "cm = confusion_matrix(y_test, [ np.argmax(i) for i in y_pred])"
      ],
      "execution_count": null,
      "outputs": []
    },
    {
      "cell_type": "code",
      "metadata": {
        "id": "-pKecYU6bK9w"
      },
      "source": [
        "plt.figure(figsize=(16,9))\n",
        "sns.heatmap(cm, annot=True, fmt = \"d\")"
      ],
      "execution_count": null,
      "outputs": []
    },
    {
      "cell_type": "markdown",
      "metadata": {
        "id": "wWNMjIDOcTmm"
      },
      "source": [
        "** Classification Report**"
      ]
    },
    {
      "cell_type": "code",
      "metadata": {
        "id": "bdPhcWFmcSon"
      },
      "source": [
        " from sklearn.metrics import classification_report\n",
        "cr = classification_report(y_test, [ np.argmax(i) for i in y_pred], target_names = class_labels,)\n",
        " "
      ],
      "execution_count": null,
      "outputs": []
    },
    {
      "cell_type": "code",
      "metadata": {
        "id": "iRr21C1Hce8t"
      },
      "source": [
        "print(cr)"
      ],
      "execution_count": null,
      "outputs": []
    },
    {
      "cell_type": "markdown",
      "metadata": {
        "id": "4jOUkzT5cow6"
      },
      "source": [
        "**Save Model**"
      ]
    },
    {
      "cell_type": "code",
      "metadata": {
        "id": "h0099lQRce6c"
      },
      "source": [
        "model.save(\"MNIST_classifier_nn_model.h5\")"
      ],
      "execution_count": null,
      "outputs": []
    },
    {
      "cell_type": "code",
      "metadata": {
        "id": "wscmIOJ0czEi"
      },
      "source": [
        "model = keras.models.load_model(\"MNIST_classifier_nn_model.h5\")"
      ],
      "execution_count": null,
      "outputs": []
    },
    {
      "cell_type": "code",
      "metadata": {
        "id": "fEmu3iq2czBz"
      },
      "source": [
        "model.predict(X_test)"
      ],
      "execution_count": null,
      "outputs": []
    }
  ]
}